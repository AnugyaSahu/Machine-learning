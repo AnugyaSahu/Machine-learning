{
  "nbformat": 4,
  "nbformat_minor": 0,
  "metadata": {
    "colab": {
      "provenance": []
    },
    "kernelspec": {
      "name": "python3",
      "display_name": "Python 3"
    },
    "language_info": {
      "name": "python"
    }
  },
  "cells": [
    {
      "cell_type": "code",
      "execution_count": null,
      "metadata": {
        "id": "mCSpYDMWAZSJ"
      },
      "outputs": [],
      "source": [
        "import tensorflow as tf\n",
        "import tensorflow_datasets as tfds\n",
        "import numpy as np\n",
        "import matplotlib.pyplot as plt\n",
        "import seaborn as sns"
      ]
    },
    {
      "cell_type": "code",
      "source": [
        "train_data, test_data = tfds.load(\"mnist\",\n",
        "                                  split=['train', 'test'],\n",
        "                                  as_supervised=True)"
      ],
      "metadata": {
        "id": "TAAqGGLMAgqu"
      },
      "execution_count": null,
      "outputs": []
    },
    {
      "cell_type": "code",
      "source": [
        "def helper(ds):\n",
        "  x, y = [], []\n",
        "  for x_, y_ in tfds.as_numpy(ds):\n",
        "    x.append(x_)\n",
        "    y.append(y_)\n",
        "  return np.asarray(x) / 255.0, np.asarray(y)\n",
        "\n",
        "train_images, train_labels = helper(train_data)\n",
        "test_images, test_labels = helper(test_data)"
      ],
      "metadata": {
        "id": "c_aoNKvwERwl"
      },
      "execution_count": null,
      "outputs": []
    },
    {
      "cell_type": "code",
      "source": [
        "i = np.random.choice(list(range(0, 1800)))\n",
        "plt.imshow(train_images[i][:, :, -1], cmap= 'gray')\n",
        "plt.title(\"Label : \" + str(train_labels[i]))\n",
        "plt.savefig(\"sample.svg\")\n",
        "plt.show()"
      ],
      "metadata": {
        "colab": {
          "base_uri": "https://localhost:8080/",
          "height": 281
        },
        "id": "7Ul0cwSpeQ29",
        "outputId": "348caedf-3de9-4a1b-cb3e-3f8805ddb8b8"
      },
      "execution_count": null,
      "outputs": [
        {
          "output_type": "display_data",
          "data": {
            "text/plain": [
              "<Figure size 432x288 with 1 Axes>"
            ],
            "image/png": "[encoded data removed]"
          },
          "metadata": {
            "needs_background": "light"
          }
        }
      ]
    },
    {
      "cell_type": "code",
      "source": [
        "mod = tf.keras.Sequential()\n",
        "mod.add(tf.keras.Input(shape=(28,28, 1)))\n",
        "mod.add(tf.keras.layers.Conv2D(8, kernel_size=(3, 3), activation='relu', padding='same'))\n",
        "mod.add(tf.keras.layers.MaxPooling2D(pool_size=(2, 2), padding='same'))\n",
        "mod.add(tf.keras.layers.Conv2D(16, kernel_size=(3, 3), activation='relu', padding='same'))\n",
        "mod.add(tf.keras.layers.MaxPooling2D(pool_size=(2, 2), padding='same'))\n",
        "mod.add(tf.keras.layers.Conv2D(32, kernel_size=(3, 3), activation='relu', padding='same'))\n",
        "mod.add(tf.keras.layers.Flatten())\n",
        "mod.add(tf.keras.layers.Dense(128, activation='relu'))\n",
        "mod.add(tf.keras.layers.Dropout(0.2))\n",
        "mod.add(tf.keras.layers.Dense(10, activation=\"softmax\"))\n",
        "mod.summary()\n",
        "mod.compile(optimizer= tf.keras.optimizers.Adam(),\n",
        "              loss=tf.keras.losses.SparseCategoricalCrossentropy(),\n",
        "              metrics=['accuracy'])\n",
        "history = mod.fit(train_images, train_labels, epochs=10)\n",
        "mod.evaluate(test_images, test_labels)"
      ],
      "metadata": {
        "colab": {
          "base_uri": "https://localhost:8080/"
        },
        "id": "XXKL8XDDFbM0",
        "outputId": "49b6a566-8fe9-4b75-ba57-ac0af9caf82b"
      },
      "execution_count": null,
      "outputs": [
        {
          "output_type": "stream",
          "name": "stdout",
          "text": [
            "Model: \"sequential\"\n",
            "_________________________________________________________________\n",
            " Layer (type)                Output Shape              Param #   \n",
            "=================================================================\n",
            " conv2d (Conv2D)             (None, 28, 28, 8)         80        \n",
            "                                                                 \n",
            " max_pooling2d (MaxPooling2D  (None, 14, 14, 8)        0         \n",
            " )                                                               \n",
            "                                                                 \n",
            " conv2d_1 (Conv2D)           (None, 14, 14, 16)        1168      \n",
            "                                                                 \n",
            " max_pooling2d_1 (MaxPooling  (None, 7, 7, 16)         0         \n",
            " 2D)                                                             \n",
            "                                                                 \n",
            " conv2d_2 (Conv2D)           (None, 7, 7, 32)          4640      \n",
            "                                                                 \n",
            " flatten (Flatten)           (None, 1568)              0         \n",
            "                                                                 \n",
            " dense (Dense)               (None, 128)               200832    \n",
            "                                                                 \n",
            " dropout (Dropout)           (None, 128)               0         \n",
            "                                                                 \n",
            " dense_1 (Dense)             (None, 10)                1290      \n",
            "                                                                 \n",
            "=================================================================\n",
            "Total params: 208,010\n",
            "Trainable params: 208,010\n",
            "Non-trainable params: 0\n",
            "_________________________________________________________________\n",
            "None\n",
            "Epoch 1/10\n",
            "1875/1875 [==============================] - 50s 26ms/step - loss: 0.1848 - accuracy: 0.9422\n",
            "Epoch 2/10\n",
            "1875/1875 [==============================] - 41s 22ms/step - loss: 0.0582 - accuracy: 0.9819\n",
            "Epoch 3/10\n",
            "1875/1875 [==============================] - 41s 22ms/step - loss: 0.0429 - accuracy: 0.9870\n",
            "Epoch 4/10\n",
            "1875/1875 [==============================] - 40s 21ms/step - loss: 0.0337 - accuracy: 0.9896\n",
            "Epoch 5/10\n",
            "1875/1875 [==============================] - 40s 21ms/step - loss: 0.0272 - accuracy: 0.9916\n",
            "Epoch 6/10\n",
            "1875/1875 [==============================] - 41s 22ms/step - loss: 0.0235 - accuracy: 0.9925\n",
            "Epoch 7/10\n",
            "1875/1875 [==============================] - 40s 21ms/step - loss: 0.0193 - accuracy: 0.9937\n",
            "Epoch 8/10\n",
            "1875/1875 [==============================] - 40s 21ms/step - loss: 0.0171 - accuracy: 0.9944\n",
            "Epoch 9/10\n",
            "1875/1875 [==============================] - 40s 22ms/step - loss: 0.0148 - accuracy: 0.9951\n",
            "Epoch 10/10\n",
            "1875/1875 [==============================] - 40s 22ms/step - loss: 0.0132 - accuracy: 0.9956\n",
            "313/313 [==============================] - 3s 9ms/step - loss: 0.0311 - accuracy: 0.9914\n"
          ]
        },
        {
          "output_type": "execute_result",
          "data": {
            "text/plain": [
              "[0.031103162094950676, 0.9914000034332275]"
            ]
          },
          "metadata": {},
          "execution_count": 5
        }
      ]
    },
    {
      "cell_type": "code",
      "source": [
        "plt.plot(history.history['loss'], label=\"training\", ls=\"--\", marker = \"^\", color = \"black\")\n",
        "plt.legend()\n",
        "plt.ylabel(\"loss\")\n",
        "plt.xlabel(\"epochs\")\n",
        "plt.savefig(\"graph.svg\")"
      ],
      "metadata": {
        "colab": {
          "base_uri": "https://localhost:8080/",
          "height": 279
        },
        "id": "gjVgLcLOWtTb",
        "outputId": "66f1a114-cd59-41c1-85a8-031b5e6b7f75"
      },
      "execution_count": null,
      "outputs": [
        {
          "output_type": "display_data",
          "data": {
            "text/plain": [
              "<Figure size 432x288 with 1 Axes>"
            ],
            "image/png": "[encoded data removed]"
          },
          "metadata": {
            "needs_background": "light"
          }
        }
      ]
    },
    {
      "cell_type": "code",
      "source": [],
      "metadata": {
        "id": "9TggB800cGRC"
      },
      "execution_count": null,
      "outputs": []
    }
  ]
}